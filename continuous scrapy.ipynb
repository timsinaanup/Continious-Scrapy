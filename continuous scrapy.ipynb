{
 "cells": [
  {
   "cell_type": "code",
   "execution_count": 1,
   "id": "59b3e1c0",
   "metadata": {},
   "outputs": [],
   "source": [
    "import requests\n",
    "import json\n",
    "import os"
   ]
  },
  {
   "cell_type": "code",
   "execution_count": 5,
   "id": "612387d0",
   "metadata": {},
   "outputs": [],
   "source": [
    "term = input(\"Enter search Term : \")\n",
    "\n",
    "if os.path.exists(f'{term}.txt'):\n",
    "    with open(f'{term}.txt', \"r\") as f:\n",
    "        page = int(f.read())\n",
    "else:\n",
    "    page = 1\n",
    "    last_page = 1\n",
    "url = f'https://bg.annapurnapost.com/api/news/list?page={page}&category_alias={term}&per_page=30'\n",
    "info = []\n",
    "response = requests.get(url)\n",
    "data= response.json()"
   ]
  },
  {
   "cell_type": "code",
   "execution_count": 7,
   "id": "c9c939b8",
   "metadata": {},
   "outputs": [],
   "source": [
    "\n",
    "while True:\n",
    "    try:\n",
    "        url = f'https://bg.annapurnapost.com/api/news/list?page={page}&category_alias={term}&per_page=30'\n",
    "        response = requests.get(url)\n",
    "        data= response.json()\n",
    "        jsondata= json.loads(response.text)\n",
    "        articles = jsondata['data']\n",
    "        for article in articles:\n",
    "            author = article['author']['name']\n",
    "            news = article['title']\n",
    "            date = article['publishOn']\n",
    "            info.append({\n",
    "            'author': author,\n",
    "            'news' : news,\n",
    "            'date' : date\n",
    "            })        \n",
    "        \n",
    "        with open(f\"{term}.txt\", \"w\") as f:\n",
    "            f.write(str(page))\n",
    "        page += 1\n",
    "        print(url)\n",
    "        if page == data['totalPage']+1:\n",
    "            break\n",
    "        \n",
    "    except:\n",
    "        print('failed to scrape page no :' + str(page))\n",
    "                \n",
    "with open(term+\"_info.json\", \"w\") as f:\n",
    "    json.dump(info, f)\n",
    "        \n"
   ]
  },
  {
   "cell_type": "code",
   "execution_count": null,
   "id": "25cecab5",
   "metadata": {},
   "outputs": [],
   "source": []
  },
  {
   "cell_type": "code",
   "execution_count": null,
   "id": "75d950be",
   "metadata": {},
   "outputs": [],
   "source": []
  },
  {
   "cell_type": "code",
   "execution_count": null,
   "id": "89edf79b",
   "metadata": {},
   "outputs": [],
   "source": []
  },
  {
   "cell_type": "code",
   "execution_count": null,
   "id": "1f12a7e0",
   "metadata": {},
   "outputs": [],
   "source": []
  }
 ],
 "metadata": {
  "kernelspec": {
   "display_name": "Python 3 (ipykernel)",
   "language": "python",
   "name": "python3"
  },
  "language_info": {
   "codemirror_mode": {
    "name": "ipython",
    "version": 3
   },
   "file_extension": ".py",
   "mimetype": "text/x-python",
   "name": "python",
   "nbconvert_exporter": "python",
   "pygments_lexer": "ipython3",
   "version": "3.9.4"
  }
 },
 "nbformat": 4,
 "nbformat_minor": 5
}
