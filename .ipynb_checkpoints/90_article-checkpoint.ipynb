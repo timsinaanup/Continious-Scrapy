{
 "cells": [
  {
   "cell_type": "code",
   "execution_count": 43,
   "id": "59b3e1c0",
   "metadata": {},
   "outputs": [],
   "source": [
    "import requests\n",
    "import json\n",
    "import os"
   ]
  },
  {
   "cell_type": "code",
   "execution_count": 44,
   "id": "612387d0",
   "metadata": {},
   "outputs": [],
   "source": [
    "term =input(\"Enter search Term : \")\n",
    "    \n",
    "if os.path.exists(f'{term}_info.json'):\n",
    "    with open(f'{term}_info.json', \"r\") as f:\n",
    "            info = json.load(f)\n",
    "else:\n",
    "    info = []\n",
    "    page = 1\n",
    "    \n",
    "counter_info = []\n"
   ]
  },
  {
   "cell_type": "code",
   "execution_count": 45,
   "id": "c9c939b8",
   "metadata": {},
   "outputs": [],
   "source": [
    "while True:\n",
    "    try:\n",
    "        url = f'https://bg.annapurnapost.com/api/news/list?page={page}&category_alias={term}&per_page=30'\n",
    "        response = requests.get(url)\n",
    "        data= response.json()\n",
    "        jsondata= json.loads(response.text)\n",
    "        articles = jsondata['data']\n",
    "            \n",
    "        if page == jsondata['totalPage']:\n",
    "            break\n",
    "\n",
    "        if len(counter_info) == 90:\n",
    "            counter_info =[]\n",
    "            break\n",
    "        \n",
    "        info.append({'Page':page})\n",
    "        #iterating through each article\n",
    "        for article in articles:\n",
    "            author = article['author']['name']\n",
    "            news = article['title']\n",
    "            date = article['publishOn']\n",
    "            data_dict={\n",
    "                'author': author,\n",
    "                'news' : news,\n",
    "                'date' : date\n",
    "            }\n",
    "            info.append(data_dict)\n",
    "            counter_info.append(data_dict)\n",
    "            \n",
    "        page += 1\n",
    "    except:\n",
    "        print('failed to scrape page no :' + str(page))\n",
    "        break\n",
    "\n",
    "with open(f'{term}_info.json', \"w\") as f: \n",
    "    json.dump(info, f)\n"
   ]
  },
  {
   "cell_type": "code",
   "execution_count": null,
   "id": "79d9a8cb",
   "metadata": {},
   "outputs": [],
   "source": []
  },
  {
   "cell_type": "code",
   "execution_count": null,
   "id": "2a629060",
   "metadata": {},
   "outputs": [],
   "source": []
  }
 ],
 "metadata": {
  "kernelspec": {
   "display_name": "Python 3 (ipykernel)",
   "language": "python",
   "name": "python3"
  },
  "language_info": {
   "codemirror_mode": {
    "name": "ipython",
    "version": 3
   },
   "file_extension": ".py",
   "mimetype": "text/x-python",
   "name": "python",
   "nbconvert_exporter": "python",
   "pygments_lexer": "ipython3",
   "version": "3.9.4"
  }
 },
 "nbformat": 4,
 "nbformat_minor": 5
}
